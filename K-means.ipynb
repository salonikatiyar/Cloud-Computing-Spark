{
 "cells": [
  {
   "cell_type": "markdown",
   "metadata": {},
   "source": [
    "# K-means"
   ]
  },
  {
   "cell_type": "code",
   "execution_count": 3,
   "metadata": {},
   "outputs": [],
   "source": [
    "import pandas as pd\n",
    "from numpy import array\n",
    "from pyspark.ml.clustering import KMeans\n",
    "from pyspark.ml.evaluation import ClusteringEvaluator\n",
    "from pyspark.ml.feature import VectorAssembler\n",
    "from pyspark import SparkContext\n",
    "from pyspark import SQLContext\n",
    "import py4j"
   ]
  },
  {
   "cell_type": "code",
   "execution_count": 7,
   "metadata": {},
   "outputs": [],
   "source": [
    "moviepath='C:/Users/SALONI/Documents/Semester 4/Cloud Computing/Assignment 2/movies.txt'\n",
    "userpath='C:/Users/SALONI/Documents/Semester 4/Cloud Computing/Assignment 2/users.txt'\n",
    "ratingpath='C:/Users/SALONI/Documents/Semester 4/Cloud Computing/Assignment 2/ratings.txt'\n"
   ]
  },
  {
   "cell_type": "code",
   "execution_count": 8,
   "metadata": {},
   "outputs": [
    {
     "name": "stderr",
     "output_type": "stream",
     "text": [
      "C:\\Users\\SALONI\\Anaconda3\\lib\\site-packages\\ipykernel_launcher.py:1: ParserWarning: Falling back to the 'python' engine because the 'c' engine does not support regex separators (separators > 1 char and different from '\\s+' are interpreted as regex); you can avoid this warning by specifying engine='python'.\n",
      "  \"\"\"Entry point for launching an IPython kernel.\n"
     ]
    }
   ],
   "source": [
    "moviefile= pd.read_table(moviepath,sep='::',names=['movie_id','movie_name', 'genre'],encoding='iso-8859-1')"
   ]
  },
  {
   "cell_type": "code",
   "execution_count": 9,
   "metadata": {},
   "outputs": [
    {
     "name": "stderr",
     "output_type": "stream",
     "text": [
      "C:\\Users\\SALONI\\Anaconda3\\lib\\site-packages\\ipykernel_launcher.py:1: ParserWarning: Falling back to the 'python' engine because the 'c' engine does not support regex separators (separators > 1 char and different from '\\s+' are interpreted as regex); you can avoid this warning by specifying engine='python'.\n",
      "  \"\"\"Entry point for launching an IPython kernel.\n"
     ]
    }
   ],
   "source": [
    "userfile= pd.read_table(userpath,sep='::',names=['UserID','Gender','Age','Occupation','Zip-code'],encoding='iso-8859-15')\n"
   ]
  },
  {
   "cell_type": "code",
   "execution_count": 10,
   "metadata": {},
   "outputs": [
    {
     "name": "stderr",
     "output_type": "stream",
     "text": [
      "C:\\Users\\SALONI\\Anaconda3\\lib\\site-packages\\ipykernel_launcher.py:1: ParserWarning: Falling back to the 'python' engine because the 'c' engine does not support regex separators (separators > 1 char and different from '\\s+' are interpreted as regex); you can avoid this warning by specifying engine='python'.\n",
      "  \"\"\"Entry point for launching an IPython kernel.\n"
     ]
    }
   ],
   "source": [
    "ratingfile= pd.read_table(ratingpath,sep='::',names=['UserID','MovieID','Rating','Timestamp'],encoding='iso-8859-15')\n"
   ]
  },
  {
   "cell_type": "code",
   "execution_count": 11,
   "metadata": {},
   "outputs": [
    {
     "data": {
      "text/plain": [
       "3706"
      ]
     },
     "execution_count": 11,
     "metadata": {},
     "output_type": "execute_result"
    }
   ],
   "source": [
    "ratingfile['MovieID'].nunique()"
   ]
  },
  {
   "cell_type": "code",
   "execution_count": 12,
   "metadata": {},
   "outputs": [
    {
     "data": {
      "text/plain": [
       "3883"
      ]
     },
     "execution_count": 12,
     "metadata": {},
     "output_type": "execute_result"
    }
   ],
   "source": [
    "moviefile['movie_id'].nunique()\n"
   ]
  },
  {
   "cell_type": "code",
   "execution_count": 13,
   "metadata": {},
   "outputs": [],
   "source": [
    "file_genre= pd.merge(left=ratingfile, right=moviefile, how='left', left_on='MovieID', right_on='movie_id') \n"
   ]
  },
  {
   "cell_type": "code",
   "execution_count": 14,
   "metadata": {},
   "outputs": [],
   "source": [
    "file_genre=file_genre.drop(['Timestamp','movie_id'],axis=1)\n"
   ]
  },
  {
   "cell_type": "code",
   "execution_count": 15,
   "metadata": {},
   "outputs": [
    {
     "data": {
      "text/html": [
       "<div>\n",
       "<style scoped>\n",
       "    .dataframe tbody tr th:only-of-type {\n",
       "        vertical-align: middle;\n",
       "    }\n",
       "\n",
       "    .dataframe tbody tr th {\n",
       "        vertical-align: top;\n",
       "    }\n",
       "\n",
       "    .dataframe thead th {\n",
       "        text-align: right;\n",
       "    }\n",
       "</style>\n",
       "<table border=\"1\" class=\"dataframe\">\n",
       "  <thead>\n",
       "    <tr style=\"text-align: right;\">\n",
       "      <th></th>\n",
       "      <th>UserID</th>\n",
       "      <th>MovieID</th>\n",
       "      <th>Rating</th>\n",
       "      <th>movie_name</th>\n",
       "      <th>genre</th>\n",
       "    </tr>\n",
       "  </thead>\n",
       "  <tbody>\n",
       "    <tr>\n",
       "      <td>0</td>\n",
       "      <td>1</td>\n",
       "      <td>1193</td>\n",
       "      <td>5</td>\n",
       "      <td>One Flew Over the Cuckoo's Nest (1975)</td>\n",
       "      <td>Drama</td>\n",
       "    </tr>\n",
       "    <tr>\n",
       "      <td>1</td>\n",
       "      <td>1</td>\n",
       "      <td>661</td>\n",
       "      <td>3</td>\n",
       "      <td>James and the Giant Peach (1996)</td>\n",
       "      <td>Animation|Children's|Musical</td>\n",
       "    </tr>\n",
       "    <tr>\n",
       "      <td>2</td>\n",
       "      <td>1</td>\n",
       "      <td>914</td>\n",
       "      <td>3</td>\n",
       "      <td>My Fair Lady (1964)</td>\n",
       "      <td>Musical|Romance</td>\n",
       "    </tr>\n",
       "    <tr>\n",
       "      <td>3</td>\n",
       "      <td>1</td>\n",
       "      <td>3408</td>\n",
       "      <td>4</td>\n",
       "      <td>Erin Brockovich (2000)</td>\n",
       "      <td>Drama</td>\n",
       "    </tr>\n",
       "    <tr>\n",
       "      <td>4</td>\n",
       "      <td>1</td>\n",
       "      <td>2355</td>\n",
       "      <td>5</td>\n",
       "      <td>Bug's Life, A (1998)</td>\n",
       "      <td>Animation|Children's|Comedy</td>\n",
       "    </tr>\n",
       "    <tr>\n",
       "      <td>...</td>\n",
       "      <td>...</td>\n",
       "      <td>...</td>\n",
       "      <td>...</td>\n",
       "      <td>...</td>\n",
       "      <td>...</td>\n",
       "    </tr>\n",
       "    <tr>\n",
       "      <td>1000204</td>\n",
       "      <td>6040</td>\n",
       "      <td>1091</td>\n",
       "      <td>1</td>\n",
       "      <td>Weekend at Bernie's (1989)</td>\n",
       "      <td>Comedy</td>\n",
       "    </tr>\n",
       "    <tr>\n",
       "      <td>1000205</td>\n",
       "      <td>6040</td>\n",
       "      <td>1094</td>\n",
       "      <td>5</td>\n",
       "      <td>Crying Game, The (1992)</td>\n",
       "      <td>Drama|Romance|War</td>\n",
       "    </tr>\n",
       "    <tr>\n",
       "      <td>1000206</td>\n",
       "      <td>6040</td>\n",
       "      <td>562</td>\n",
       "      <td>5</td>\n",
       "      <td>Welcome to the Dollhouse (1995)</td>\n",
       "      <td>Comedy|Drama</td>\n",
       "    </tr>\n",
       "    <tr>\n",
       "      <td>1000207</td>\n",
       "      <td>6040</td>\n",
       "      <td>1096</td>\n",
       "      <td>4</td>\n",
       "      <td>Sophie's Choice (1982)</td>\n",
       "      <td>Drama</td>\n",
       "    </tr>\n",
       "    <tr>\n",
       "      <td>1000208</td>\n",
       "      <td>6040</td>\n",
       "      <td>1097</td>\n",
       "      <td>4</td>\n",
       "      <td>E.T. the Extra-Terrestrial (1982)</td>\n",
       "      <td>Children's|Drama|Fantasy|Sci-Fi</td>\n",
       "    </tr>\n",
       "  </tbody>\n",
       "</table>\n",
       "<p>1000209 rows × 5 columns</p>\n",
       "</div>"
      ],
      "text/plain": [
       "         UserID  MovieID  Rating                              movie_name  \\\n",
       "0             1     1193       5  One Flew Over the Cuckoo's Nest (1975)   \n",
       "1             1      661       3        James and the Giant Peach (1996)   \n",
       "2             1      914       3                     My Fair Lady (1964)   \n",
       "3             1     3408       4                  Erin Brockovich (2000)   \n",
       "4             1     2355       5                    Bug's Life, A (1998)   \n",
       "...         ...      ...     ...                                     ...   \n",
       "1000204    6040     1091       1              Weekend at Bernie's (1989)   \n",
       "1000205    6040     1094       5                 Crying Game, The (1992)   \n",
       "1000206    6040      562       5         Welcome to the Dollhouse (1995)   \n",
       "1000207    6040     1096       4                  Sophie's Choice (1982)   \n",
       "1000208    6040     1097       4       E.T. the Extra-Terrestrial (1982)   \n",
       "\n",
       "                                   genre  \n",
       "0                                  Drama  \n",
       "1           Animation|Children's|Musical  \n",
       "2                        Musical|Romance  \n",
       "3                                  Drama  \n",
       "4            Animation|Children's|Comedy  \n",
       "...                                  ...  \n",
       "1000204                           Comedy  \n",
       "1000205                Drama|Romance|War  \n",
       "1000206                     Comedy|Drama  \n",
       "1000207                            Drama  \n",
       "1000208  Children's|Drama|Fantasy|Sci-Fi  \n",
       "\n",
       "[1000209 rows x 5 columns]"
      ]
     },
     "execution_count": 15,
     "metadata": {},
     "output_type": "execute_result"
    }
   ],
   "source": [
    "file_genre"
   ]
  },
  {
   "cell_type": "code",
   "execution_count": 16,
   "metadata": {},
   "outputs": [],
   "source": [
    "genre_list= set()\n"
   ]
  },
  {
   "cell_type": "code",
   "execution_count": 17,
   "metadata": {},
   "outputs": [],
   "source": [
    "for g in file_genre['genre'].str.split('|'):\n",
    "    genre_list= genre_list.union(set(g))"
   ]
  },
  {
   "cell_type": "code",
   "execution_count": 18,
   "metadata": {},
   "outputs": [],
   "source": [
    "for g in genre_list:\n",
    "    file_genre[g]=0\n"
   ]
  },
  {
   "cell_type": "code",
   "execution_count": 19,
   "metadata": {},
   "outputs": [],
   "source": [
    "i=file_genre.index.min()\n",
    "#type(i)\n",
    "while i<=file_genre.index.max():\n",
    "    for g in file_genre.loc[i,'genre'].split('|'):\n",
    "        file_genre.at[i,g]=1\n",
    "    i=i+1"
   ]
  },
  {
   "cell_type": "code",
   "execution_count": 20,
   "metadata": {},
   "outputs": [],
   "source": [
    "file_genre= file_genre.drop(['movie_name'], axis=1)\n"
   ]
  },
  {
   "cell_type": "code",
   "execution_count": 21,
   "metadata": {},
   "outputs": [],
   "source": [
    "backupfile=file_genre\n"
   ]
  },
  {
   "cell_type": "code",
   "execution_count": 22,
   "metadata": {},
   "outputs": [],
   "source": [
    "file_genre=file_genre.drop(['genre'], axis=1)\n"
   ]
  },
  {
   "cell_type": "code",
   "execution_count": 23,
   "metadata": {},
   "outputs": [],
   "source": [
    "file_genre.to_csv(r'C:/Users/SALONI/Documents/Semester 4/Cloud Computing/Assignment 2/file_genre',index = False)\n"
   ]
  },
  {
   "cell_type": "code",
   "execution_count": 24,
   "metadata": {},
   "outputs": [],
   "source": [
    "file_genre= pd.read_csv('C:/Users/SALONI/Documents/Semester 4/Cloud Computing/Assignment 2/file_genre')\n"
   ]
  },
  {
   "cell_type": "code",
   "execution_count": 25,
   "metadata": {},
   "outputs": [],
   "source": [
    "sqlctx= SQLContext(sc)\n"
   ]
  },
  {
   "cell_type": "code",
   "execution_count": 26,
   "metadata": {},
   "outputs": [
    {
     "data": {
      "text/plain": [
       "DataFrame[UserID: bigint, MovieID: bigint, Rating: bigint, Sci-Fi: bigint, Adventure: bigint, Horror: bigint, Film-Noir: bigint, Action: bigint, Musical: bigint, Romance: bigint, Crime: bigint, Children's: bigint, Comedy: bigint, Mystery: bigint, Drama: bigint, Animation: bigint, Western: bigint, Documentary: bigint, Thriller: bigint, Fantasy: bigint, War: bigint]"
      ]
     },
     "execution_count": 26,
     "metadata": {},
     "output_type": "execute_result"
    }
   ],
   "source": [
    "SpData= sqlctx.createDataFrame(file_genre)\n",
    "SpData"
   ]
  },
  {
   "cell_type": "code",
   "execution_count": 27,
   "metadata": {},
   "outputs": [],
   "source": [
    "ignore=['UserID','MovieID', 'Rating']\n"
   ]
  },
  {
   "cell_type": "code",
   "execution_count": 28,
   "metadata": {},
   "outputs": [
    {
     "data": {
      "text/plain": [
       "VectorAssembler_3c519263ddfd"
      ]
     },
     "execution_count": 28,
     "metadata": {},
     "output_type": "execute_result"
    }
   ],
   "source": [
    "assembler=VectorAssembler(inputCols=[x for x in file_genre if x not in ignore], outputCol='features')\n",
    "assembler\n"
   ]
  },
  {
   "cell_type": "code",
   "execution_count": 29,
   "metadata": {},
   "outputs": [
    {
     "data": {
      "text/plain": [
       "DataFrame[UserID: bigint, MovieID: bigint, Rating: bigint, Sci-Fi: bigint, Adventure: bigint, Horror: bigint, Film-Noir: bigint, Action: bigint, Musical: bigint, Romance: bigint, Crime: bigint, Children's: bigint, Comedy: bigint, Mystery: bigint, Drama: bigint, Animation: bigint, Western: bigint, Documentary: bigint, Thriller: bigint, Fantasy: bigint, War: bigint, features: vector]"
      ]
     },
     "execution_count": 29,
     "metadata": {},
     "output_type": "execute_result"
    }
   ],
   "source": [
    "tdata=assembler.transform(SpData)\n",
    "tdata"
   ]
  },
  {
   "cell_type": "code",
   "execution_count": 30,
   "metadata": {},
   "outputs": [],
   "source": [
    "least_ssee=[]\n",
    "for i in range(25,35):\n",
    "    kmeans= KMeans().setK(i).setSeed(134)\n",
    "    model= kmeans.fit(tdata)\n",
    "    sse=model.summary.trainingCost\n",
    "    least_ssee.append([sse,i])"
   ]
  },
  {
   "cell_type": "code",
   "execution_count": null,
   "metadata": {},
   "outputs": [],
   "source": [
    "\n"
   ]
  },
  {
   "cell_type": "code",
   "execution_count": 31,
   "metadata": {},
   "outputs": [
    {
     "data": {
      "text/plain": [
       "[[523230.428654439, 25],\n",
       " [517262.8526350386, 26],\n",
       " [507205.393494464, 27],\n",
       " [503676.65993441606, 28],\n",
       " [499280.84063860576, 29],\n",
       " [483928.6699055842, 30],\n",
       " [486010.92184351385, 31],\n",
       " [469261.9184572046, 32],\n",
       " [456607.6482565256, 33],\n",
       " [414578.07381927065, 34]]"
      ]
     },
     "execution_count": 31,
     "metadata": {},
     "output_type": "execute_result"
    }
   ],
   "source": [
    "least_ssee\n"
   ]
  },
  {
   "cell_type": "code",
   "execution_count": 32,
   "metadata": {},
   "outputs": [],
   "source": [
    "kmeans= KMeans().setK(29).setSeed(134)\n"
   ]
  },
  {
   "cell_type": "code",
   "execution_count": 33,
   "metadata": {},
   "outputs": [],
   "source": [
    "model=kmeans.fit(tdata)\n"
   ]
  },
  {
   "cell_type": "code",
   "execution_count": 37,
   "metadata": {},
   "outputs": [
    {
     "name": "stdout",
     "output_type": "stream",
     "text": [
      "+------+-------+------+------+---------+------+---------+------+-------+-------+-----+----------+------+-------+-----+---------+-------+-----------+--------+-------+---+--------------------+----------+\n",
      "|UserID|MovieID|Rating|Sci-Fi|Adventure|Horror|Film-Noir|Action|Musical|Romance|Crime|Children's|Comedy|Mystery|Drama|Animation|Western|Documentary|Thriller|Fantasy|War|            features|prediction|\n",
      "+------+-------+------+------+---------+------+---------+------+-------+-------+-----+----------+------+-------+-----+---------+-------+-----------+--------+-------+---+--------------------+----------+\n",
      "|     1|   1193|     5|     0|        0|     0|        0|     0|      0|      0|    0|         0|     0|      0|    1|        0|      0|          0|       0|      0|  0|     (18,[11],[1.0])|        12|\n",
      "|     1|    661|     3|     0|        0|     0|        0|     0|      1|      0|    0|         1|     0|      0|    0|        1|      0|          0|       0|      0|  0|(18,[5,8,12],[1.0...|         2|\n",
      "|     1|    914|     3|     0|        0|     0|        0|     0|      1|      1|    0|         0|     0|      0|    0|        0|      0|          0|       0|      0|  0|(18,[5,6],[1.0,1.0])|         2|\n",
      "|     1|   3408|     4|     0|        0|     0|        0|     0|      0|      0|    0|         0|     0|      0|    1|        0|      0|          0|       0|      0|  0|     (18,[11],[1.0])|        12|\n",
      "|     1|   2355|     5|     0|        0|     0|        0|     0|      0|      0|    0|         1|     1|      0|    0|        1|      0|          0|       0|      0|  0|(18,[8,9,12],[1.0...|        16|\n",
      "|     1|   1197|     3|     0|        1|     0|        0|     1|      0|      1|    0|         0|     1|      0|    0|        0|      0|          0|       0|      0|  0|(18,[1,4,6,9],[1....|        10|\n",
      "|     1|   1287|     5|     0|        1|     0|        0|     1|      0|      0|    0|         0|     0|      0|    1|        0|      0|          0|       0|      0|  0|(18,[1,4,11],[1.0...|        14|\n",
      "|     1|   2804|     5|     0|        0|     0|        0|     0|      0|      0|    0|         0|     1|      0|    1|        0|      0|          0|       0|      0|  0|(18,[9,11],[1.0,1...|         1|\n",
      "|     1|    594|     4|     0|        0|     0|        0|     0|      1|      0|    0|         1|     0|      0|    0|        1|      0|          0|       0|      0|  0|(18,[5,8,12],[1.0...|         2|\n",
      "|     1|    919|     4|     0|        1|     0|        0|     0|      1|      0|    0|         1|     0|      0|    1|        0|      0|          0|       0|      0|  0|(18,[1,5,8,11],[1...|        19|\n",
      "|     1|    595|     5|     0|        0|     0|        0|     0|      1|      0|    0|         1|     0|      0|    0|        1|      0|          0|       0|      0|  0|(18,[5,8,12],[1.0...|         2|\n",
      "|     1|    938|     4|     0|        0|     0|        0|     0|      1|      0|    0|         0|     0|      0|    0|        0|      0|          0|       0|      0|  0|      (18,[5],[1.0])|         2|\n",
      "|     1|   2398|     4|     0|        0|     0|        0|     0|      0|      0|    0|         0|     0|      0|    1|        0|      0|          0|       0|      0|  0|     (18,[11],[1.0])|        12|\n",
      "|     1|   2918|     4|     0|        0|     0|        0|     0|      0|      0|    0|         0|     1|      0|    0|        0|      0|          0|       0|      0|  0|      (18,[9],[1.0])|         6|\n",
      "|     1|   1035|     5|     0|        0|     0|        0|     0|      1|      0|    0|         0|     0|      0|    0|        0|      0|          0|       0|      0|  0|      (18,[5],[1.0])|         2|\n",
      "|     1|   2791|     4|     0|        0|     0|        0|     0|      0|      0|    0|         0|     1|      0|    0|        0|      0|          0|       0|      0|  0|      (18,[9],[1.0])|         6|\n",
      "|     1|   2687|     3|     0|        0|     0|        0|     0|      0|      0|    0|         1|     0|      0|    0|        1|      0|          0|       0|      0|  0|(18,[8,12],[1.0,1...|        16|\n",
      "|     1|   2018|     4|     0|        0|     0|        0|     0|      0|      0|    0|         1|     0|      0|    0|        1|      0|          0|       0|      0|  0|(18,[8,12],[1.0,1...|        16|\n",
      "|     1|   3105|     5|     0|        0|     0|        0|     0|      0|      0|    0|         0|     0|      0|    1|        0|      0|          0|       0|      0|  0|     (18,[11],[1.0])|        12|\n",
      "|     1|   2797|     4|     0|        0|     0|        0|     0|      0|      0|    0|         0|     1|      0|    0|        0|      0|          0|       0|      1|  0|(18,[9,16],[1.0,1...|         6|\n",
      "+------+-------+------+------+---------+------+---------+------+-------+-------+-----+----------+------+-------+-----+---------+-------+-----------+--------+-------+---+--------------------+----------+\n",
      "only showing top 20 rows\n",
      "\n"
     ]
    }
   ],
   "source": [
    "prediction=model.transform(tdata)\n",
    "prediction.show()\n"
   ]
  },
  {
   "cell_type": "code",
   "execution_count": 38,
   "metadata": {},
   "outputs": [],
   "source": [
    "drop_col=['Documentary','Mystery','Romance','Crime','Western','Horror','Film-Noir','Adventure','Animation','Sci-Fi','War','Thriller','Drama',\"Children's\",'Comedy','Musical','Fantasy','Action']"
   ]
  },
  {
   "cell_type": "code",
   "execution_count": 39,
   "metadata": {},
   "outputs": [],
   "source": [
    "prediction= prediction.drop(*drop_col)\n",
    "pred_panda=prediction.select('*').toPandas()"
   ]
  },
  {
   "cell_type": "code",
   "execution_count": 40,
   "metadata": {},
   "outputs": [],
   "source": [
    "dataf=prediction.groupby('UserID','prediction').agg({'Rating':'mean'})\n",
    "dataf_panda=dataf.select('*').toPandas()\n"
   ]
  },
  {
   "cell_type": "code",
   "execution_count": 41,
   "metadata": {},
   "outputs": [
    {
     "data": {
      "text/html": [
       "<div>\n",
       "<style scoped>\n",
       "    .dataframe tbody tr th:only-of-type {\n",
       "        vertical-align: middle;\n",
       "    }\n",
       "\n",
       "    .dataframe tbody tr th {\n",
       "        vertical-align: top;\n",
       "    }\n",
       "\n",
       "    .dataframe thead th {\n",
       "        text-align: right;\n",
       "    }\n",
       "</style>\n",
       "<table border=\"1\" class=\"dataframe\">\n",
       "  <thead>\n",
       "    <tr style=\"text-align: right;\">\n",
       "      <th></th>\n",
       "      <th>UserID</th>\n",
       "      <th>MovieID</th>\n",
       "      <th>Rating</th>\n",
       "      <th>features</th>\n",
       "      <th>prediction</th>\n",
       "    </tr>\n",
       "  </thead>\n",
       "  <tbody>\n",
       "    <tr>\n",
       "      <td>0</td>\n",
       "      <td>1</td>\n",
       "      <td>1193</td>\n",
       "      <td>5</td>\n",
       "      <td>(0.0, 0.0, 0.0, 0.0, 0.0, 0.0, 0.0, 0.0, 0.0, ...</td>\n",
       "      <td>12</td>\n",
       "    </tr>\n",
       "    <tr>\n",
       "      <td>1</td>\n",
       "      <td>1</td>\n",
       "      <td>661</td>\n",
       "      <td>3</td>\n",
       "      <td>(0.0, 0.0, 0.0, 0.0, 0.0, 1.0, 0.0, 0.0, 1.0, ...</td>\n",
       "      <td>2</td>\n",
       "    </tr>\n",
       "    <tr>\n",
       "      <td>2</td>\n",
       "      <td>1</td>\n",
       "      <td>914</td>\n",
       "      <td>3</td>\n",
       "      <td>(0.0, 0.0, 0.0, 0.0, 0.0, 1.0, 1.0, 0.0, 0.0, ...</td>\n",
       "      <td>2</td>\n",
       "    </tr>\n",
       "    <tr>\n",
       "      <td>3</td>\n",
       "      <td>1</td>\n",
       "      <td>3408</td>\n",
       "      <td>4</td>\n",
       "      <td>(0.0, 0.0, 0.0, 0.0, 0.0, 0.0, 0.0, 0.0, 0.0, ...</td>\n",
       "      <td>12</td>\n",
       "    </tr>\n",
       "    <tr>\n",
       "      <td>4</td>\n",
       "      <td>1</td>\n",
       "      <td>2355</td>\n",
       "      <td>5</td>\n",
       "      <td>(0.0, 0.0, 0.0, 0.0, 0.0, 0.0, 0.0, 0.0, 1.0, ...</td>\n",
       "      <td>16</td>\n",
       "    </tr>\n",
       "  </tbody>\n",
       "</table>\n",
       "</div>"
      ],
      "text/plain": [
       "   UserID  MovieID  Rating                                           features  \\\n",
       "0       1     1193       5  (0.0, 0.0, 0.0, 0.0, 0.0, 0.0, 0.0, 0.0, 0.0, ...   \n",
       "1       1      661       3  (0.0, 0.0, 0.0, 0.0, 0.0, 1.0, 0.0, 0.0, 1.0, ...   \n",
       "2       1      914       3  (0.0, 0.0, 0.0, 0.0, 0.0, 1.0, 1.0, 0.0, 0.0, ...   \n",
       "3       1     3408       4  (0.0, 0.0, 0.0, 0.0, 0.0, 0.0, 0.0, 0.0, 0.0, ...   \n",
       "4       1     2355       5  (0.0, 0.0, 0.0, 0.0, 0.0, 0.0, 0.0, 0.0, 1.0, ...   \n",
       "\n",
       "   prediction  \n",
       "0          12  \n",
       "1           2  \n",
       "2           2  \n",
       "3          12  \n",
       "4          16  "
      ]
     },
     "execution_count": 41,
     "metadata": {},
     "output_type": "execute_result"
    }
   ],
   "source": [
    "pred_panda.head()\n"
   ]
  },
  {
   "cell_type": "code",
   "execution_count": 42,
   "metadata": {},
   "outputs": [
    {
     "data": {
      "text/html": [
       "<div>\n",
       "<style scoped>\n",
       "    .dataframe tbody tr th:only-of-type {\n",
       "        vertical-align: middle;\n",
       "    }\n",
       "\n",
       "    .dataframe tbody tr th {\n",
       "        vertical-align: top;\n",
       "    }\n",
       "\n",
       "    .dataframe thead th {\n",
       "        text-align: right;\n",
       "    }\n",
       "</style>\n",
       "<table border=\"1\" class=\"dataframe\">\n",
       "  <thead>\n",
       "    <tr style=\"text-align: right;\">\n",
       "      <th></th>\n",
       "      <th>UserID</th>\n",
       "      <th>prediction</th>\n",
       "      <th>avg(Rating)</th>\n",
       "    </tr>\n",
       "  </thead>\n",
       "  <tbody>\n",
       "    <tr>\n",
       "      <td>0</td>\n",
       "      <td>1</td>\n",
       "      <td>12</td>\n",
       "      <td>4.357143</td>\n",
       "    </tr>\n",
       "    <tr>\n",
       "      <td>1</td>\n",
       "      <td>9</td>\n",
       "      <td>24</td>\n",
       "      <td>3.000000</td>\n",
       "    </tr>\n",
       "    <tr>\n",
       "      <td>2</td>\n",
       "      <td>10</td>\n",
       "      <td>14</td>\n",
       "      <td>4.083333</td>\n",
       "    </tr>\n",
       "    <tr>\n",
       "      <td>3</td>\n",
       "      <td>20</td>\n",
       "      <td>7</td>\n",
       "      <td>3.666667</td>\n",
       "    </tr>\n",
       "    <tr>\n",
       "      <td>4</td>\n",
       "      <td>28</td>\n",
       "      <td>12</td>\n",
       "      <td>4.041667</td>\n",
       "    </tr>\n",
       "  </tbody>\n",
       "</table>\n",
       "</div>"
      ],
      "text/plain": [
       "   UserID  prediction  avg(Rating)\n",
       "0       1          12     4.357143\n",
       "1       9          24     3.000000\n",
       "2      10          14     4.083333\n",
       "3      20           7     3.666667\n",
       "4      28          12     4.041667"
      ]
     },
     "execution_count": 42,
     "metadata": {},
     "output_type": "execute_result"
    }
   ],
   "source": [
    "dataf_panda.head()\n"
   ]
  },
  {
   "cell_type": "code",
   "execution_count": 43,
   "metadata": {},
   "outputs": [],
   "source": [
    "df= pred_panda.merge(dataf_panda,how='left', left_on=['UserID','prediction'],right_on=['UserID','prediction'])\n"
   ]
  },
  {
   "cell_type": "code",
   "execution_count": 44,
   "metadata": {},
   "outputs": [
    {
     "data": {
      "text/html": [
       "<div>\n",
       "<style scoped>\n",
       "    .dataframe tbody tr th:only-of-type {\n",
       "        vertical-align: middle;\n",
       "    }\n",
       "\n",
       "    .dataframe tbody tr th {\n",
       "        vertical-align: top;\n",
       "    }\n",
       "\n",
       "    .dataframe thead th {\n",
       "        text-align: right;\n",
       "    }\n",
       "</style>\n",
       "<table border=\"1\" class=\"dataframe\">\n",
       "  <thead>\n",
       "    <tr style=\"text-align: right;\">\n",
       "      <th></th>\n",
       "      <th>UserID</th>\n",
       "      <th>MovieID</th>\n",
       "      <th>Rating</th>\n",
       "      <th>features</th>\n",
       "      <th>prediction</th>\n",
       "      <th>avg(Rating)</th>\n",
       "    </tr>\n",
       "  </thead>\n",
       "  <tbody>\n",
       "    <tr>\n",
       "      <td>0</td>\n",
       "      <td>1</td>\n",
       "      <td>1193</td>\n",
       "      <td>5</td>\n",
       "      <td>(0.0, 0.0, 0.0, 0.0, 0.0, 0.0, 0.0, 0.0, 0.0, ...</td>\n",
       "      <td>12</td>\n",
       "      <td>4.357143</td>\n",
       "    </tr>\n",
       "    <tr>\n",
       "      <td>1</td>\n",
       "      <td>1</td>\n",
       "      <td>661</td>\n",
       "      <td>3</td>\n",
       "      <td>(0.0, 0.0, 0.0, 0.0, 0.0, 1.0, 0.0, 0.0, 1.0, ...</td>\n",
       "      <td>2</td>\n",
       "      <td>4.300000</td>\n",
       "    </tr>\n",
       "    <tr>\n",
       "      <td>2</td>\n",
       "      <td>1</td>\n",
       "      <td>914</td>\n",
       "      <td>3</td>\n",
       "      <td>(0.0, 0.0, 0.0, 0.0, 0.0, 1.0, 1.0, 0.0, 0.0, ...</td>\n",
       "      <td>2</td>\n",
       "      <td>4.300000</td>\n",
       "    </tr>\n",
       "    <tr>\n",
       "      <td>3</td>\n",
       "      <td>1</td>\n",
       "      <td>3408</td>\n",
       "      <td>4</td>\n",
       "      <td>(0.0, 0.0, 0.0, 0.0, 0.0, 0.0, 0.0, 0.0, 0.0, ...</td>\n",
       "      <td>12</td>\n",
       "      <td>4.357143</td>\n",
       "    </tr>\n",
       "    <tr>\n",
       "      <td>4</td>\n",
       "      <td>1</td>\n",
       "      <td>2355</td>\n",
       "      <td>5</td>\n",
       "      <td>(0.0, 0.0, 0.0, 0.0, 0.0, 0.0, 0.0, 0.0, 1.0, ...</td>\n",
       "      <td>16</td>\n",
       "      <td>4.000000</td>\n",
       "    </tr>\n",
       "  </tbody>\n",
       "</table>\n",
       "</div>"
      ],
      "text/plain": [
       "   UserID  MovieID  Rating                                           features  \\\n",
       "0       1     1193       5  (0.0, 0.0, 0.0, 0.0, 0.0, 0.0, 0.0, 0.0, 0.0, ...   \n",
       "1       1      661       3  (0.0, 0.0, 0.0, 0.0, 0.0, 1.0, 0.0, 0.0, 1.0, ...   \n",
       "2       1      914       3  (0.0, 0.0, 0.0, 0.0, 0.0, 1.0, 1.0, 0.0, 0.0, ...   \n",
       "3       1     3408       4  (0.0, 0.0, 0.0, 0.0, 0.0, 0.0, 0.0, 0.0, 0.0, ...   \n",
       "4       1     2355       5  (0.0, 0.0, 0.0, 0.0, 0.0, 0.0, 0.0, 0.0, 1.0, ...   \n",
       "\n",
       "   prediction  avg(Rating)  \n",
       "0          12     4.357143  \n",
       "1           2     4.300000  \n",
       "2           2     4.300000  \n",
       "3          12     4.357143  \n",
       "4          16     4.000000  "
      ]
     },
     "execution_count": 44,
     "metadata": {},
     "output_type": "execute_result"
    }
   ],
   "source": [
    "df.head()\n"
   ]
  },
  {
   "cell_type": "code",
   "execution_count": 45,
   "metadata": {},
   "outputs": [],
   "source": [
    "df=df.rename(columns={'avg(Rating)':'avgRating'})\n"
   ]
  },
  {
   "cell_type": "code",
   "execution_count": 46,
   "metadata": {},
   "outputs": [],
   "source": [
    "rmse=((df.Rating-df.avgRating)**2).mean()**0.5\n"
   ]
  },
  {
   "cell_type": "code",
   "execution_count": 47,
   "metadata": {},
   "outputs": [
    {
     "data": {
      "text/plain": [
       "0.9333231488364497"
      ]
     },
     "execution_count": 47,
     "metadata": {},
     "output_type": "execute_result"
    }
   ],
   "source": [
    "rmse.real\n"
   ]
  },
  {
   "cell_type": "code",
   "execution_count": null,
   "metadata": {},
   "outputs": [],
   "source": []
  },
  {
   "cell_type": "code",
   "execution_count": null,
   "metadata": {},
   "outputs": [],
   "source": []
  },
  {
   "cell_type": "code",
   "execution_count": null,
   "metadata": {},
   "outputs": [],
   "source": []
  }
 ],
 "metadata": {
  "kernelspec": {
   "display_name": "Python 3",
   "language": "python",
   "name": "python3"
  },
  "language_info": {
   "codemirror_mode": {
    "name": "ipython",
    "version": 3
   },
   "file_extension": ".py",
   "mimetype": "text/x-python",
   "name": "python",
   "nbconvert_exporter": "python",
   "pygments_lexer": "ipython3",
   "version": "3.7.4"
  }
 },
 "nbformat": 4,
 "nbformat_minor": 2
}
