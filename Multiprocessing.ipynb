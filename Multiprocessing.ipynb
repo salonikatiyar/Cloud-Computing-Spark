{
  "nbformat": 4,
  "nbformat_minor": 0,
  "metadata": {
    "kernelspec": {
      "display_name": "Python 3",
      "language": "python",
      "name": "python3"
    },
    "language_info": {
      "codemirror_mode": {
        "name": "ipython",
        "version": 3
      },
      "file_extension": ".py",
      "mimetype": "text/x-python",
      "name": "python",
      "nbconvert_exporter": "python",
      "pygments_lexer": "ipython3",
      "version": "3.7.6"
    },
    "colab": {
      "name": "HW3_Multiprocessing_Saloni.ipynb",
      "provenance": [],
      "collapsed_sections": []
    }
  },
  "cells": [
    {
      "cell_type": "code",
      "metadata": {
        "id": "9E8ZXNGtPRzQ"
      },
      "source": [
        "import numpy as np\n",
        "import pandas as pd\n",
        "import time\n",
        "import multiprocessing\n",
        "from multiprocessing import Process, Pipe\n",
        "from datetime import datetime"
      ],
      "execution_count": 9,
      "outputs": []
    },
    {
      "cell_type": "code",
      "metadata": {
        "colab": {
          "base_uri": "https://localhost:8080/",
          "height": 402
        },
        "id": "Q2XHZqvhPRzQ",
        "outputId": "4029889a-c9d5-48de-cadf-feba504ef7c4"
      },
      "source": [
        "data = pd.read_csv('20K_Datapoints.csv')\n",
        "data"
      ],
      "execution_count": 4,
      "outputs": [
        {
          "output_type": "execute_result",
          "data": {
            "text/html": [
              "<div>\n",
              "<style scoped>\n",
              "    .dataframe tbody tr th:only-of-type {\n",
              "        vertical-align: middle;\n",
              "    }\n",
              "\n",
              "    .dataframe tbody tr th {\n",
              "        vertical-align: top;\n",
              "    }\n",
              "\n",
              "    .dataframe thead th {\n",
              "        text-align: right;\n",
              "    }\n",
              "</style>\n",
              "<table border=\"1\" class=\"dataframe\">\n",
              "  <thead>\n",
              "    <tr style=\"text-align: right;\">\n",
              "      <th></th>\n",
              "      <th>X</th>\n",
              "      <th>Y</th>\n",
              "    </tr>\n",
              "  </thead>\n",
              "  <tbody>\n",
              "    <tr>\n",
              "      <th>0</th>\n",
              "      <td>0.387717</td>\n",
              "      <td>10.746281</td>\n",
              "    </tr>\n",
              "    <tr>\n",
              "      <th>1</th>\n",
              "      <td>4.377074</td>\n",
              "      <td>227.190272</td>\n",
              "    </tr>\n",
              "    <tr>\n",
              "      <th>2</th>\n",
              "      <td>0.436813</td>\n",
              "      <td>22.670695</td>\n",
              "    </tr>\n",
              "    <tr>\n",
              "      <th>3</th>\n",
              "      <td>3.278660</td>\n",
              "      <td>177.120957</td>\n",
              "    </tr>\n",
              "    <tr>\n",
              "      <th>4</th>\n",
              "      <td>5.734753</td>\n",
              "      <td>373.677893</td>\n",
              "    </tr>\n",
              "    <tr>\n",
              "      <th>...</th>\n",
              "      <td>...</td>\n",
              "      <td>...</td>\n",
              "    </tr>\n",
              "    <tr>\n",
              "      <th>19995</th>\n",
              "      <td>8.228528</td>\n",
              "      <td>744.944460</td>\n",
              "    </tr>\n",
              "    <tr>\n",
              "      <th>19996</th>\n",
              "      <td>3.036068</td>\n",
              "      <td>137.230401</td>\n",
              "    </tr>\n",
              "    <tr>\n",
              "      <th>19997</th>\n",
              "      <td>2.874888</td>\n",
              "      <td>112.618173</td>\n",
              "    </tr>\n",
              "    <tr>\n",
              "      <th>19998</th>\n",
              "      <td>3.993018</td>\n",
              "      <td>236.503574</td>\n",
              "    </tr>\n",
              "    <tr>\n",
              "      <th>19999</th>\n",
              "      <td>4.169945</td>\n",
              "      <td>223.807822</td>\n",
              "    </tr>\n",
              "  </tbody>\n",
              "</table>\n",
              "<p>20000 rows × 2 columns</p>\n",
              "</div>"
            ],
            "text/plain": [
              "              X           Y\n",
              "0      0.387717   10.746281\n",
              "1      4.377074  227.190272\n",
              "2      0.436813   22.670695\n",
              "3      3.278660  177.120957\n",
              "4      5.734753  373.677893\n",
              "...         ...         ...\n",
              "19995  8.228528  744.944460\n",
              "19996  3.036068  137.230401\n",
              "19997  2.874888  112.618173\n",
              "19998  3.993018  236.503574\n",
              "19999  4.169945  223.807822\n",
              "\n",
              "[20000 rows x 2 columns]"
            ]
          },
          "metadata": {
            "tags": []
          },
          "execution_count": 4
        }
      ]
    },
    {
      "cell_type": "code",
      "metadata": {
        "id": "a_zLyBhyPRzQ"
      },
      "source": [
        "X = data.iloc[:, 0].to_numpy()\n",
        "Y = data.iloc[:, 1].to_numpy()"
      ],
      "execution_count": 5,
      "outputs": []
    },
    {
      "cell_type": "code",
      "metadata": {
        "id": "Nr4ztL9vPRzQ"
      },
      "source": [
        "def gradD(connection):\n",
        "    a=0\n",
        "    b=0\n",
        "    c=0\n",
        "    \n",
        "    L=0.0001\n",
        "    epochs=10000\n",
        "    X=connection.recv()\n",
        "    Y=connection.recv()\n",
        "    n=float(len(X))\n",
        "    \n",
        "    for i in range(epochs): \n",
        "        Y_pred = a*X*X + b*X + c \n",
        "        D_a = (-2/n) * sum(X*X * (Y - Y_pred))  \n",
        "        D_b = (-2/n) * sum(X * (Y - Y_pred))  \n",
        "        D_c = (-2/n) * sum(Y - Y_pred)  \n",
        "        a = a - L * D_a\n",
        "        b = b - L * D_b \n",
        "        c = c - L * D_c\n",
        "    \n",
        "    connection.send(a)\n",
        "    connection.send(b)\n",
        "    connection.send(c)\n",
        "    connection.close()"
      ],
      "execution_count": 13,
      "outputs": []
    },
    {
      "cell_type": "code",
      "metadata": {
        "colab": {
          "base_uri": "https://localhost:8080/"
        },
        "id": "5Tighm2yPRzQ",
        "outputId": "76744339-1e38-4159-a910-0e643ab9557d"
      },
      "source": [
        "if __name__ == '__main__':\n",
        "    startTime = time.time()\n",
        "    x1 = data.iloc[0:6666,0]\n",
        "    x2 = data.iloc[6666:13332,0]\n",
        "    x3 = data.iloc[13332:19998,0]\n",
        "    y1 = data.iloc[0:6666,1]\n",
        "    y2 = data.iloc[6666:13332,1]\n",
        "    y3 = data.iloc[13332:19998,1]\n",
        "    \n",
        "    #start = datetime.now()\n",
        "    \n",
        "    parent,child = Pipe()\n",
        "\n",
        "    process1 = Process(target=gradD, args=(child,))\n",
        "    process2 = Process(target=gradD, args=(child,))\n",
        "    process3 = Process(target=gradD, args=(child,))\n",
        "   \n",
        "    process1.start()\n",
        "    parent.send(x1)\n",
        "    parent.send(y1)\n",
        "    a1 = parent.recv()\n",
        "    b1 = parent.recv()\n",
        "    c1 = parent.recv()\n",
        "    \n",
        "    process2.start()\n",
        "    parent.send(x2)\n",
        "    parent.send(y2)\n",
        "    a2 = parent.recv()\n",
        "    b2 = parent.recv()\n",
        "    c2 = parent.recv()\n",
        "    \n",
        "    process3.start()\n",
        "    parent.send(x3)\n",
        "    parent.send(y3)\n",
        "    a3 = parent.recv()\n",
        "    b3 = parent.recv()\n",
        "    c3 = parent.recv()\n",
        "    \n",
        "    a = (a1+a2+a3)/3\n",
        "    b = (b1+b2+b3)/3\n",
        "    c = (c1+c2+c3)/3\n",
        "    \n",
        "    process1.join()\n",
        "    process2.join()\n",
        "    process3.join()\n",
        "    \n",
        "    stop = datetime.now()\n",
        "    \n",
        "    print(\"A: \", a, \"B: \", b, \"C: \", c)\n",
        "    print('That took {} seconds'.format(time.time() - startTime))"
      ],
      "execution_count": 14,
      "outputs": [
        {
          "output_type": "stream",
          "text": [
            "A:  9.50251761386896 B:  11.858581743984653 C:  10.756355103429252\n",
            "That took 93.82001614570618 seconds\n"
          ],
          "name": "stdout"
        }
      ]
    },
    {
      "cell_type": "code",
      "metadata": {
        "id": "K2QoiZ6oRDsF"
      },
      "source": [
        ""
      ],
      "execution_count": null,
      "outputs": []
    }
  ]
}