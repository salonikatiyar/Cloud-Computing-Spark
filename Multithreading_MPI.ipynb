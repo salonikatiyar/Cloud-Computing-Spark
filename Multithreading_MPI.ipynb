{
 "cells": [
  {
   "cell_type": "code",
   "execution_count": 7,
   "metadata": {},
   "outputs": [
    {
     "name": "stdout",
     "output_type": "stream",
     "text": [
      "Requirement already satisfied: mpi4py in c:\\users\\saloni\\anaconda3\\envs\\pandas\\lib\\site-packages (3.0.3)\n",
      "Note: you may need to restart the kernel to use updated packages.\n"
     ]
    }
   ],
   "source": [
    "pip install mpi4py"
   ]
  },
  {
   "cell_type": "code",
   "execution_count": 8,
   "metadata": {},
   "outputs": [],
   "source": [
    "import numpy as np\n",
    "import pandas as pd\n",
    "import time\n",
    "import multiprocessing\n",
    "from multiprocessing import Pool, Pipe\n",
    "import os\n",
    "import matplotlib.pyplot as plt\n",
    "import threading\n",
    "from mpi4py import MPI"
   ]
  },
  {
   "cell_type": "code",
   "execution_count": 9,
   "metadata": {},
   "outputs": [
    {
     "data": {
      "text/html": [
       "<div>\n",
       "<style scoped>\n",
       "    .dataframe tbody tr th:only-of-type {\n",
       "        vertical-align: middle;\n",
       "    }\n",
       "\n",
       "    .dataframe tbody tr th {\n",
       "        vertical-align: top;\n",
       "    }\n",
       "\n",
       "    .dataframe thead th {\n",
       "        text-align: right;\n",
       "    }\n",
       "</style>\n",
       "<table border=\"1\" class=\"dataframe\">\n",
       "  <thead>\n",
       "    <tr style=\"text-align: right;\">\n",
       "      <th></th>\n",
       "      <th>X</th>\n",
       "      <th>Y</th>\n",
       "    </tr>\n",
       "  </thead>\n",
       "  <tbody>\n",
       "    <tr>\n",
       "      <th>0</th>\n",
       "      <td>0.387717</td>\n",
       "      <td>10.746281</td>\n",
       "    </tr>\n",
       "    <tr>\n",
       "      <th>1</th>\n",
       "      <td>4.377074</td>\n",
       "      <td>227.190272</td>\n",
       "    </tr>\n",
       "    <tr>\n",
       "      <th>2</th>\n",
       "      <td>0.436813</td>\n",
       "      <td>22.670695</td>\n",
       "    </tr>\n",
       "    <tr>\n",
       "      <th>3</th>\n",
       "      <td>3.278660</td>\n",
       "      <td>177.120957</td>\n",
       "    </tr>\n",
       "    <tr>\n",
       "      <th>4</th>\n",
       "      <td>5.734753</td>\n",
       "      <td>373.677893</td>\n",
       "    </tr>\n",
       "    <tr>\n",
       "      <th>...</th>\n",
       "      <td>...</td>\n",
       "      <td>...</td>\n",
       "    </tr>\n",
       "    <tr>\n",
       "      <th>19995</th>\n",
       "      <td>8.228528</td>\n",
       "      <td>744.944460</td>\n",
       "    </tr>\n",
       "    <tr>\n",
       "      <th>19996</th>\n",
       "      <td>3.036068</td>\n",
       "      <td>137.230401</td>\n",
       "    </tr>\n",
       "    <tr>\n",
       "      <th>19997</th>\n",
       "      <td>2.874888</td>\n",
       "      <td>112.618173</td>\n",
       "    </tr>\n",
       "    <tr>\n",
       "      <th>19998</th>\n",
       "      <td>3.993018</td>\n",
       "      <td>236.503574</td>\n",
       "    </tr>\n",
       "    <tr>\n",
       "      <th>19999</th>\n",
       "      <td>4.169945</td>\n",
       "      <td>223.807822</td>\n",
       "    </tr>\n",
       "  </tbody>\n",
       "</table>\n",
       "<p>20000 rows × 2 columns</p>\n",
       "</div>"
      ],
      "text/plain": [
       "              X           Y\n",
       "0      0.387717   10.746281\n",
       "1      4.377074  227.190272\n",
       "2      0.436813   22.670695\n",
       "3      3.278660  177.120957\n",
       "4      5.734753  373.677893\n",
       "...         ...         ...\n",
       "19995  8.228528  744.944460\n",
       "19996  3.036068  137.230401\n",
       "19997  2.874888  112.618173\n",
       "19998  3.993018  236.503574\n",
       "19999  4.169945  223.807822\n",
       "\n",
       "[20000 rows x 2 columns]"
      ]
     },
     "execution_count": 9,
     "metadata": {},
     "output_type": "execute_result"
    }
   ],
   "source": [
    "data = pd.read_csv('20K_Datapoints.csv')\n",
    "data"
   ]
  },
  {
   "cell_type": "code",
   "execution_count": 10,
   "metadata": {},
   "outputs": [],
   "source": [
    "X = data.iloc[:, 0].to_numpy()\n",
    "Y = data.iloc[:, 1].to_numpy()"
   ]
  },
  {
   "cell_type": "markdown",
   "metadata": {},
   "source": [
    "Non-linear Regression"
   ]
  },
  {
   "cell_type": "code",
   "execution_count": 11,
   "metadata": {},
   "outputs": [
    {
     "name": "stdout",
     "output_type": "stream",
     "text": [
      "9.502181674800925 11.861262607997416 10.75668020578724\n"
     ]
    },
    {
     "data": {
      "image/png": "[encoded data removed]",
      "text/plain": [
       "<Figure size 432x288 with 1 Axes>"
      ]
     },
     "metadata": {
      "needs_background": "light"
     },
     "output_type": "display_data"
    }
   ],
   "source": [
    "# Building the model\n",
    "a = 0\n",
    "b = 0\n",
    "c = 0\n",
    "\n",
    "L = 0.0001  # The learning Rate\n",
    "epochs = 10000  # The number of iterations to perform gradient descent\n",
    "\n",
    "n = float(len(X)) # Number of elements in X\n",
    "\n",
    "# Performing Gradient Descent \n",
    "for i in range(epochs): \n",
    "    Y_pred = a*X*X + b*X + c  # The current predicted value of Y\n",
    "    D_a = (-2/n) * sum(X*X * (Y - Y_pred))  # Derivative wrt a\n",
    "    D_b = (-2/n) * sum(X * (Y - Y_pred))  # Derivative wrt b\n",
    "    D_c = (-2/n) * sum(Y - Y_pred)  # Derivative wrt c\n",
    "    a = a - L * D_a  # Update a\n",
    "    b = b - L * D_b  # Update b\n",
    "    c = c - L * D_c  # Update c\n",
    "\n",
    "print (a, b, c)\n",
    "\n",
    "# Making predictions\n",
    "Y_pred = a*X*X + b*X + c\n",
    "\n",
    "plt.scatter(X, Y)\n",
    "plt.scatter(X, Y_pred , color='red') # predicted\n",
    "plt.show()"
   ]
  },
  {
   "cell_type": "markdown",
   "metadata": {},
   "source": [
    "Multithreading"
   ]
  },
  {
   "cell_type": "code",
   "execution_count": 12,
   "metadata": {},
   "outputs": [],
   "source": [
    "def gradD(connection):\n",
    "    a = 0\n",
    "    b = 0\n",
    "    c = 0\n",
    "    L = .0001\n",
    "    epochs = 10000\n",
    "    x = connection.recv()\n",
    "    y = connection.recv()\n",
    "    n = float(len(x))\n",
    "    for i in range(epochs):\n",
    "        Y_pred = np.dot(a, np.multiply(x, x)) + np.dot(b, x) + c  # The current predicted value of Y\n",
    "        D_a = np.dot(np.divide(-2, n), np.dot(np.multiply(x, x), np.subtract(y, Y_pred)))  # Derivative wrt a\n",
    "        D_b = np.dot(np.divide(-2, n), np.dot(x, np.subtract(y, Y_pred)))  # Derivative wrt b\n",
    "        D_c = np.dot(np.divide(-2, n), np.sum(np.subtract(y, Y_pred)))  # Derivative wrt c\n",
    "        a = np.subtract(a, np.dot(L, D_a))  # Update a\n",
    "        b = np.subtract(b, np.dot(L, D_b))  # Update b\n",
    "        c = np.subtract(c, np.dot(L, D_c))  # Update c\n",
    "    connection.send(a)\n",
    "    connection.send(b)\n",
    "    connection.send(c)"
   ]
  },
  {
   "cell_type": "code",
   "execution_count": 13,
   "metadata": {},
   "outputs": [
    {
     "name": "stdout",
     "output_type": "stream",
     "text": [
      "<Thread(Thread-6, initial)>\n",
      "<Thread(Thread-7, initial)>\n",
      "A:  9.504485997947771 B:  11.885450954728851 C:  10.75605846863418\n",
      "That took 4.620450735092163 seconds\n"
     ]
    }
   ],
   "source": [
    "if __name__ == '__main__':\n",
    "    split = 2\n",
    "    startTime = time.time()\n",
    "    parentConnection, childConnection = Pipe()\n",
    "    X = np.array_split(X, split)\n",
    "    Y = np.array_split(Y, split)\n",
    "    for i in range(split):\n",
    "        thread = threading.Thread(target=gradDesc, args=(childConnection,))\n",
    "        print(thread)\n",
    "        thread.start()\n",
    "        parentConnection.send(X[i])\n",
    "        parentConnection.send(Y[i])\n",
    "        time.sleep(0.1)\n",
    "    a = parentConnection.recv()\n",
    "    b = parentConnection.recv()\n",
    "    c = parentConnection.recv()\n",
    "    print(\"A: \", a, \"B: \", b, \"C: \", c)\n",
    "    print('That took {} seconds'.format(time.time() - startTime))"
   ]
  },
  {
   "cell_type": "markdown",
   "metadata": {},
   "source": [
    "MPI"
   ]
  },
  {
   "cell_type": "code",
   "execution_count": 5,
   "metadata": {},
   "outputs": [],
   "source": [
    "comm = MPI.COMM_WORLD\n",
    "rank = comm.Get_rank()\n",
    "numProcs = comm.Get_size()\n",
    "\n",
    "L = 0.0001  # The learning Rate\n",
    "epochs = 10000  # The number of iterations to perform gradient descent\n",
    "\n",
    "a = 0\n",
    "b = 0\n",
    "c = 0\n",
    "\n",
    "n = float(len(data))\n",
    "\n",
    "def gradD(data, parameters):\n",
    "    a, b, c = [p for p in parameters]\n",
    "    X = data.iloc[:, 0].to_numpy()\n",
    "    Y = data.iloc[:, 1].to_numpy()\n",
    "    Y_pred = np.dot(a, np.multiply(X, X)) + np.dot(b, X) + c  # The current predicted value of Y\n",
    "    D_a = np.dot(np.divide(-2, n), np.dot(np.multiply(X, X), np.subtract(Y, Y_pred)))  # Derivative wrt a\n",
    "    D_b = np.dot(np.divide(-2, n), np.dot(X, np.subtract(Y, Y_pred)))  # Derivative wrt b\n",
    "    D_c = np.dot(np.divide(-2, n), np.sum(np.subtract(Y, Y_pred)))  # Derivative wrt c\n",
    "    return [D_a, D_b, D_c]"
   ]
  },
  {
   "cell_type": "code",
   "execution_count": 6,
   "metadata": {},
   "outputs": [
    {
     "name": "stdout",
     "output_type": "stream",
     "text": [
      "MPI:\n",
      "A:  9.502181674800925 B:  11.861262607997412 C:  10.756680205787251\n",
      "That took 13.093668222427368 seconds\n"
     ]
    }
   ],
   "source": [
    "if __name__ == '__main__':\n",
    "    startTime = time.time()\n",
    "\n",
    "    for i in range(epochs):\n",
    "        if rank == 0:\n",
    "            splitData = np.array_split(data, numProcs)\n",
    "            parameters = [a, b, c]\n",
    "        else:\n",
    "            splitData = None\n",
    "            parameters = None\n",
    "\n",
    "        parameters = comm.bcast(parameters, root=0)\n",
    "        dataScatter = comm.scatter(splitData, root=0)\n",
    "        gradients = gradDesc(dataScatter, parameters)\n",
    "        gradients = comm.gather(gradients, root=0)\n",
    "\n",
    "        if rank == 0:\n",
    "            D_a, D_b, D_c = [np.sum(k) for k in zip(*gradients)]\n",
    "            a = np.subtract(a, np.dot(L, D_a))  # Update a\n",
    "            b = np.subtract(b, np.dot(L, D_b))  # Update b\n",
    "            c = np.subtract(c, np.dot(L, D_c))  # Update c\n",
    "\n",
    "    if rank == 0:\n",
    "        print('MPI:')\n",
    "        print(\"A: \", a, \"B: \", b, \"C: \", c)\n",
    "        print('That took {} seconds'.format(time.time() - startTime))"
   ]
  }
 ],
 "metadata": {
  "kernelspec": {
   "display_name": "Python 3",
   "language": "python",
   "name": "python3"
  },
  "language_info": {
   "codemirror_mode": {
    "name": "ipython",
    "version": 3
   },
   "file_extension": ".py",
   "mimetype": "text/x-python",
   "name": "python",
   "nbconvert_exporter": "python",
   "pygments_lexer": "ipython3",
   "version": "3.7.6"
  }
 },
 "nbformat": 4,
 "nbformat_minor": 2
}
